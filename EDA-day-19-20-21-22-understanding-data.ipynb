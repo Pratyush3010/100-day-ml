{
 "cells": [
  {
   "cell_type": "code",
   "execution_count": 11,
   "id": "94643613-80f7-4b8e-b460-96a4ef5461ab",
   "metadata": {},
   "outputs": [],
   "source": [
    "import pandas as pd\n",
    "import seaborn as sns"
   ]
  },
  {
   "cell_type": "code",
   "execution_count": 12,
   "id": "44767f33-f8a5-4331-8c65-3878bcef77c2",
   "metadata": {},
   "outputs": [
    {
     "data": {
      "text/html": [
       "<div>\n",
       "<style scoped>\n",
       "    .dataframe tbody tr th:only-of-type {\n",
       "        vertical-align: middle;\n",
       "    }\n",
       "\n",
       "    .dataframe tbody tr th {\n",
       "        vertical-align: top;\n",
       "    }\n",
       "\n",
       "    .dataframe thead th {\n",
       "        text-align: right;\n",
       "    }\n",
       "</style>\n",
       "<table border=\"1\" class=\"dataframe\">\n",
       "  <thead>\n",
       "    <tr style=\"text-align: right;\">\n",
       "      <th></th>\n",
       "      <th>Unnamed: 0</th>\n",
       "      <th>Sample_ID</th>\n",
       "      <th>350</th>\n",
       "      <th>351</th>\n",
       "      <th>352</th>\n",
       "      <th>353</th>\n",
       "      <th>354</th>\n",
       "      <th>355</th>\n",
       "      <th>356</th>\n",
       "      <th>357</th>\n",
       "      <th>...</th>\n",
       "      <th>2492</th>\n",
       "      <th>2493</th>\n",
       "      <th>2494</th>\n",
       "      <th>2495</th>\n",
       "      <th>2496</th>\n",
       "      <th>2497</th>\n",
       "      <th>2498</th>\n",
       "      <th>2499</th>\n",
       "      <th>2500</th>\n",
       "      <th>Carea</th>\n",
       "    </tr>\n",
       "  </thead>\n",
       "  <tbody>\n",
       "    <tr>\n",
       "      <th>0</th>\n",
       "      <td>0</td>\n",
       "      <td>BNL12801</td>\n",
       "      <td>4.80</td>\n",
       "      <td>4.44</td>\n",
       "      <td>4.88</td>\n",
       "      <td>4.99</td>\n",
       "      <td>4.79</td>\n",
       "      <td>4.67</td>\n",
       "      <td>4.53</td>\n",
       "      <td>4.38</td>\n",
       "      <td>...</td>\n",
       "      <td>9.88</td>\n",
       "      <td>9.84</td>\n",
       "      <td>9.77</td>\n",
       "      <td>9.69</td>\n",
       "      <td>9.70</td>\n",
       "      <td>9.74</td>\n",
       "      <td>9.75</td>\n",
       "      <td>9.74</td>\n",
       "      <td>9.70</td>\n",
       "      <td>80.90</td>\n",
       "    </tr>\n",
       "    <tr>\n",
       "      <th>1</th>\n",
       "      <td>1</td>\n",
       "      <td>BNL12802</td>\n",
       "      <td>3.93</td>\n",
       "      <td>3.97</td>\n",
       "      <td>3.40</td>\n",
       "      <td>2.94</td>\n",
       "      <td>2.59</td>\n",
       "      <td>3.29</td>\n",
       "      <td>3.40</td>\n",
       "      <td>3.14</td>\n",
       "      <td>...</td>\n",
       "      <td>3.37</td>\n",
       "      <td>3.35</td>\n",
       "      <td>3.33</td>\n",
       "      <td>3.32</td>\n",
       "      <td>3.33</td>\n",
       "      <td>3.35</td>\n",
       "      <td>3.37</td>\n",
       "      <td>3.39</td>\n",
       "      <td>3.39</td>\n",
       "      <td>88.73</td>\n",
       "    </tr>\n",
       "    <tr>\n",
       "      <th>2</th>\n",
       "      <td>2</td>\n",
       "      <td>BNL12803</td>\n",
       "      <td>6.11</td>\n",
       "      <td>6.17</td>\n",
       "      <td>6.11</td>\n",
       "      <td>5.63</td>\n",
       "      <td>4.72</td>\n",
       "      <td>4.57</td>\n",
       "      <td>4.05</td>\n",
       "      <td>3.35</td>\n",
       "      <td>...</td>\n",
       "      <td>2.83</td>\n",
       "      <td>2.84</td>\n",
       "      <td>2.84</td>\n",
       "      <td>2.83</td>\n",
       "      <td>2.82</td>\n",
       "      <td>2.82</td>\n",
       "      <td>2.82</td>\n",
       "      <td>2.83</td>\n",
       "      <td>2.83</td>\n",
       "      <td>88.73</td>\n",
       "    </tr>\n",
       "    <tr>\n",
       "      <th>3</th>\n",
       "      <td>3</td>\n",
       "      <td>BNL12804</td>\n",
       "      <td>4.87</td>\n",
       "      <td>4.27</td>\n",
       "      <td>3.60</td>\n",
       "      <td>3.60</td>\n",
       "      <td>4.27</td>\n",
       "      <td>4.22</td>\n",
       "      <td>4.24</td>\n",
       "      <td>4.33</td>\n",
       "      <td>...</td>\n",
       "      <td>4.92</td>\n",
       "      <td>4.91</td>\n",
       "      <td>4.87</td>\n",
       "      <td>4.82</td>\n",
       "      <td>4.80</td>\n",
       "      <td>4.80</td>\n",
       "      <td>4.80</td>\n",
       "      <td>4.81</td>\n",
       "      <td>4.80</td>\n",
       "      <td>65.94</td>\n",
       "    </tr>\n",
       "    <tr>\n",
       "      <th>4</th>\n",
       "      <td>4</td>\n",
       "      <td>BNL12805</td>\n",
       "      <td>3.53</td>\n",
       "      <td>3.46</td>\n",
       "      <td>3.83</td>\n",
       "      <td>4.32</td>\n",
       "      <td>4.91</td>\n",
       "      <td>5.22</td>\n",
       "      <td>4.88</td>\n",
       "      <td>4.10</td>\n",
       "      <td>...</td>\n",
       "      <td>4.31</td>\n",
       "      <td>4.31</td>\n",
       "      <td>4.29</td>\n",
       "      <td>4.26</td>\n",
       "      <td>4.26</td>\n",
       "      <td>4.28</td>\n",
       "      <td>4.28</td>\n",
       "      <td>4.28</td>\n",
       "      <td>4.27</td>\n",
       "      <td>65.94</td>\n",
       "    </tr>\n",
       "    <tr>\n",
       "      <th>...</th>\n",
       "      <td>...</td>\n",
       "      <td>...</td>\n",
       "      <td>...</td>\n",
       "      <td>...</td>\n",
       "      <td>...</td>\n",
       "      <td>...</td>\n",
       "      <td>...</td>\n",
       "      <td>...</td>\n",
       "      <td>...</td>\n",
       "      <td>...</td>\n",
       "      <td>...</td>\n",
       "      <td>...</td>\n",
       "      <td>...</td>\n",
       "      <td>...</td>\n",
       "      <td>...</td>\n",
       "      <td>...</td>\n",
       "      <td>...</td>\n",
       "      <td>...</td>\n",
       "      <td>...</td>\n",
       "      <td>...</td>\n",
       "      <td>...</td>\n",
       "    </tr>\n",
       "    <tr>\n",
       "      <th>371</th>\n",
       "      <td>371</td>\n",
       "      <td>NaN</td>\n",
       "      <td>NaN</td>\n",
       "      <td>NaN</td>\n",
       "      <td>NaN</td>\n",
       "      <td>NaN</td>\n",
       "      <td>NaN</td>\n",
       "      <td>NaN</td>\n",
       "      <td>NaN</td>\n",
       "      <td>NaN</td>\n",
       "      <td>...</td>\n",
       "      <td>NaN</td>\n",
       "      <td>NaN</td>\n",
       "      <td>NaN</td>\n",
       "      <td>NaN</td>\n",
       "      <td>NaN</td>\n",
       "      <td>NaN</td>\n",
       "      <td>NaN</td>\n",
       "      <td>NaN</td>\n",
       "      <td>NaN</td>\n",
       "      <td>26.99</td>\n",
       "    </tr>\n",
       "    <tr>\n",
       "      <th>372</th>\n",
       "      <td>372</td>\n",
       "      <td>NaN</td>\n",
       "      <td>NaN</td>\n",
       "      <td>NaN</td>\n",
       "      <td>NaN</td>\n",
       "      <td>NaN</td>\n",
       "      <td>NaN</td>\n",
       "      <td>NaN</td>\n",
       "      <td>NaN</td>\n",
       "      <td>NaN</td>\n",
       "      <td>...</td>\n",
       "      <td>NaN</td>\n",
       "      <td>NaN</td>\n",
       "      <td>NaN</td>\n",
       "      <td>NaN</td>\n",
       "      <td>NaN</td>\n",
       "      <td>NaN</td>\n",
       "      <td>NaN</td>\n",
       "      <td>NaN</td>\n",
       "      <td>NaN</td>\n",
       "      <td>55.87</td>\n",
       "    </tr>\n",
       "    <tr>\n",
       "      <th>373</th>\n",
       "      <td>373</td>\n",
       "      <td>NaN</td>\n",
       "      <td>NaN</td>\n",
       "      <td>NaN</td>\n",
       "      <td>NaN</td>\n",
       "      <td>NaN</td>\n",
       "      <td>NaN</td>\n",
       "      <td>NaN</td>\n",
       "      <td>NaN</td>\n",
       "      <td>NaN</td>\n",
       "      <td>...</td>\n",
       "      <td>NaN</td>\n",
       "      <td>NaN</td>\n",
       "      <td>NaN</td>\n",
       "      <td>NaN</td>\n",
       "      <td>NaN</td>\n",
       "      <td>NaN</td>\n",
       "      <td>NaN</td>\n",
       "      <td>NaN</td>\n",
       "      <td>NaN</td>\n",
       "      <td>55.87</td>\n",
       "    </tr>\n",
       "    <tr>\n",
       "      <th>374</th>\n",
       "      <td>374</td>\n",
       "      <td>NaN</td>\n",
       "      <td>NaN</td>\n",
       "      <td>NaN</td>\n",
       "      <td>NaN</td>\n",
       "      <td>NaN</td>\n",
       "      <td>NaN</td>\n",
       "      <td>NaN</td>\n",
       "      <td>NaN</td>\n",
       "      <td>NaN</td>\n",
       "      <td>...</td>\n",
       "      <td>NaN</td>\n",
       "      <td>NaN</td>\n",
       "      <td>NaN</td>\n",
       "      <td>NaN</td>\n",
       "      <td>NaN</td>\n",
       "      <td>NaN</td>\n",
       "      <td>NaN</td>\n",
       "      <td>NaN</td>\n",
       "      <td>NaN</td>\n",
       "      <td>24.70</td>\n",
       "    </tr>\n",
       "    <tr>\n",
       "      <th>375</th>\n",
       "      <td>375</td>\n",
       "      <td>NaN</td>\n",
       "      <td>NaN</td>\n",
       "      <td>NaN</td>\n",
       "      <td>NaN</td>\n",
       "      <td>NaN</td>\n",
       "      <td>NaN</td>\n",
       "      <td>NaN</td>\n",
       "      <td>NaN</td>\n",
       "      <td>NaN</td>\n",
       "      <td>...</td>\n",
       "      <td>NaN</td>\n",
       "      <td>NaN</td>\n",
       "      <td>NaN</td>\n",
       "      <td>NaN</td>\n",
       "      <td>NaN</td>\n",
       "      <td>NaN</td>\n",
       "      <td>NaN</td>\n",
       "      <td>NaN</td>\n",
       "      <td>NaN</td>\n",
       "      <td>24.70</td>\n",
       "    </tr>\n",
       "  </tbody>\n",
       "</table>\n",
       "<p>376 rows × 2154 columns</p>\n",
       "</div>"
      ],
      "text/plain": [
       "     Unnamed: 0 Sample_ID   350   351   352   353   354   355   356   357  \\\n",
       "0             0  BNL12801  4.80  4.44  4.88  4.99  4.79  4.67  4.53  4.38   \n",
       "1             1  BNL12802  3.93  3.97  3.40  2.94  2.59  3.29  3.40  3.14   \n",
       "2             2  BNL12803  6.11  6.17  6.11  5.63  4.72  4.57  4.05  3.35   \n",
       "3             3  BNL12804  4.87  4.27  3.60  3.60  4.27  4.22  4.24  4.33   \n",
       "4             4  BNL12805  3.53  3.46  3.83  4.32  4.91  5.22  4.88  4.10   \n",
       "..          ...       ...   ...   ...   ...   ...   ...   ...   ...   ...   \n",
       "371         371       NaN   NaN   NaN   NaN   NaN   NaN   NaN   NaN   NaN   \n",
       "372         372       NaN   NaN   NaN   NaN   NaN   NaN   NaN   NaN   NaN   \n",
       "373         373       NaN   NaN   NaN   NaN   NaN   NaN   NaN   NaN   NaN   \n",
       "374         374       NaN   NaN   NaN   NaN   NaN   NaN   NaN   NaN   NaN   \n",
       "375         375       NaN   NaN   NaN   NaN   NaN   NaN   NaN   NaN   NaN   \n",
       "\n",
       "     ...  2492  2493  2494  2495  2496  2497  2498  2499  2500  Carea  \n",
       "0    ...  9.88  9.84  9.77  9.69  9.70  9.74  9.75  9.74  9.70  80.90  \n",
       "1    ...  3.37  3.35  3.33  3.32  3.33  3.35  3.37  3.39  3.39  88.73  \n",
       "2    ...  2.83  2.84  2.84  2.83  2.82  2.82  2.82  2.83  2.83  88.73  \n",
       "3    ...  4.92  4.91  4.87  4.82  4.80  4.80  4.80  4.81  4.80  65.94  \n",
       "4    ...  4.31  4.31  4.29  4.26  4.26  4.28  4.28  4.28  4.27  65.94  \n",
       "..   ...   ...   ...   ...   ...   ...   ...   ...   ...   ...    ...  \n",
       "371  ...   NaN   NaN   NaN   NaN   NaN   NaN   NaN   NaN   NaN  26.99  \n",
       "372  ...   NaN   NaN   NaN   NaN   NaN   NaN   NaN   NaN   NaN  55.87  \n",
       "373  ...   NaN   NaN   NaN   NaN   NaN   NaN   NaN   NaN   NaN  55.87  \n",
       "374  ...   NaN   NaN   NaN   NaN   NaN   NaN   NaN   NaN   NaN  24.70  \n",
       "375  ...   NaN   NaN   NaN   NaN   NaN   NaN   NaN   NaN   NaN  24.70  \n",
       "\n",
       "[376 rows x 2154 columns]"
      ]
     },
     "execution_count": 12,
     "metadata": {},
     "output_type": "execute_result"
    }
   ],
   "source": [
    "df = pd.read_csv('mergedCarea.csv')\n",
    "df"
   ]
  },
  {
   "cell_type": "markdown",
   "id": "8ab96305-1848-4b31-836f-ea7d603feb86",
   "metadata": {},
   "source": [
    "## How big is the data"
   ]
  },
  {
   "cell_type": "code",
   "execution_count": 13,
   "id": "57e8176d-dfe5-4498-8b73-a9461e1cc28a",
   "metadata": {},
   "outputs": [
    {
     "data": {
      "text/plain": [
       "(376, 2154)"
      ]
     },
     "execution_count": 13,
     "metadata": {},
     "output_type": "execute_result"
    }
   ],
   "source": [
    "df.shape"
   ]
  },
  {
   "cell_type": "markdown",
   "id": "8a6fd628-fd8a-47f2-89c2-db8e3c204391",
   "metadata": {},
   "source": [
    "## How does the data look like?"
   ]
  },
  {
   "cell_type": "code",
   "execution_count": 14,
   "id": "889f025c-226b-4bb7-b8fe-a539a5db3e50",
   "metadata": {},
   "outputs": [
    {
     "data": {
      "text/html": [
       "<div>\n",
       "<style scoped>\n",
       "    .dataframe tbody tr th:only-of-type {\n",
       "        vertical-align: middle;\n",
       "    }\n",
       "\n",
       "    .dataframe tbody tr th {\n",
       "        vertical-align: top;\n",
       "    }\n",
       "\n",
       "    .dataframe thead th {\n",
       "        text-align: right;\n",
       "    }\n",
       "</style>\n",
       "<table border=\"1\" class=\"dataframe\">\n",
       "  <thead>\n",
       "    <tr style=\"text-align: right;\">\n",
       "      <th></th>\n",
       "      <th>Unnamed: 0</th>\n",
       "      <th>Sample_ID</th>\n",
       "      <th>350</th>\n",
       "      <th>351</th>\n",
       "      <th>352</th>\n",
       "      <th>353</th>\n",
       "      <th>354</th>\n",
       "      <th>355</th>\n",
       "      <th>356</th>\n",
       "      <th>357</th>\n",
       "      <th>...</th>\n",
       "      <th>2492</th>\n",
       "      <th>2493</th>\n",
       "      <th>2494</th>\n",
       "      <th>2495</th>\n",
       "      <th>2496</th>\n",
       "      <th>2497</th>\n",
       "      <th>2498</th>\n",
       "      <th>2499</th>\n",
       "      <th>2500</th>\n",
       "      <th>Carea</th>\n",
       "    </tr>\n",
       "  </thead>\n",
       "  <tbody>\n",
       "    <tr>\n",
       "      <th>250</th>\n",
       "      <td>250</td>\n",
       "      <td>BNL12751</td>\n",
       "      <td>24.63</td>\n",
       "      <td>24.46</td>\n",
       "      <td>24.25</td>\n",
       "      <td>23.94</td>\n",
       "      <td>23.56</td>\n",
       "      <td>23.15</td>\n",
       "      <td>22.62</td>\n",
       "      <td>21.89</td>\n",
       "      <td>...</td>\n",
       "      <td>4.28</td>\n",
       "      <td>4.23</td>\n",
       "      <td>4.10</td>\n",
       "      <td>3.96</td>\n",
       "      <td>3.91</td>\n",
       "      <td>3.82</td>\n",
       "      <td>3.72</td>\n",
       "      <td>3.77</td>\n",
       "      <td>3.70</td>\n",
       "      <td>45.35</td>\n",
       "    </tr>\n",
       "    <tr>\n",
       "      <th>318</th>\n",
       "      <td>318</td>\n",
       "      <td>BNL12780</td>\n",
       "      <td>27.07</td>\n",
       "      <td>26.89</td>\n",
       "      <td>26.64</td>\n",
       "      <td>26.24</td>\n",
       "      <td>25.69</td>\n",
       "      <td>25.18</td>\n",
       "      <td>24.59</td>\n",
       "      <td>23.84</td>\n",
       "      <td>...</td>\n",
       "      <td>2.94</td>\n",
       "      <td>2.92</td>\n",
       "      <td>2.87</td>\n",
       "      <td>2.83</td>\n",
       "      <td>2.88</td>\n",
       "      <td>2.93</td>\n",
       "      <td>2.92</td>\n",
       "      <td>2.95</td>\n",
       "      <td>2.86</td>\n",
       "      <td>36.96</td>\n",
       "    </tr>\n",
       "    <tr>\n",
       "      <th>171</th>\n",
       "      <td>171</td>\n",
       "      <td>BNL12602</td>\n",
       "      <td>34.86</td>\n",
       "      <td>34.59</td>\n",
       "      <td>34.01</td>\n",
       "      <td>33.30</td>\n",
       "      <td>32.56</td>\n",
       "      <td>31.68</td>\n",
       "      <td>30.69</td>\n",
       "      <td>29.64</td>\n",
       "      <td>...</td>\n",
       "      <td>2.85</td>\n",
       "      <td>2.83</td>\n",
       "      <td>2.79</td>\n",
       "      <td>2.73</td>\n",
       "      <td>2.76</td>\n",
       "      <td>2.76</td>\n",
       "      <td>2.72</td>\n",
       "      <td>2.74</td>\n",
       "      <td>2.68</td>\n",
       "      <td>136.07</td>\n",
       "    </tr>\n",
       "    <tr>\n",
       "      <th>93</th>\n",
       "      <td>93</td>\n",
       "      <td>BNL12708</td>\n",
       "      <td>24.48</td>\n",
       "      <td>24.68</td>\n",
       "      <td>24.94</td>\n",
       "      <td>24.94</td>\n",
       "      <td>24.62</td>\n",
       "      <td>24.22</td>\n",
       "      <td>23.65</td>\n",
       "      <td>22.86</td>\n",
       "      <td>...</td>\n",
       "      <td>3.89</td>\n",
       "      <td>3.81</td>\n",
       "      <td>3.69</td>\n",
       "      <td>3.58</td>\n",
       "      <td>3.59</td>\n",
       "      <td>3.60</td>\n",
       "      <td>3.60</td>\n",
       "      <td>3.71</td>\n",
       "      <td>3.74</td>\n",
       "      <td>34.29</td>\n",
       "    </tr>\n",
       "    <tr>\n",
       "      <th>32</th>\n",
       "      <td>32</td>\n",
       "      <td>BNL12840</td>\n",
       "      <td>23.87</td>\n",
       "      <td>23.72</td>\n",
       "      <td>23.43</td>\n",
       "      <td>22.99</td>\n",
       "      <td>22.41</td>\n",
       "      <td>21.78</td>\n",
       "      <td>21.11</td>\n",
       "      <td>20.45</td>\n",
       "      <td>...</td>\n",
       "      <td>5.81</td>\n",
       "      <td>5.75</td>\n",
       "      <td>5.68</td>\n",
       "      <td>5.63</td>\n",
       "      <td>5.73</td>\n",
       "      <td>5.76</td>\n",
       "      <td>5.72</td>\n",
       "      <td>5.80</td>\n",
       "      <td>5.71</td>\n",
       "      <td>39.26</td>\n",
       "    </tr>\n",
       "  </tbody>\n",
       "</table>\n",
       "<p>5 rows × 2154 columns</p>\n",
       "</div>"
      ],
      "text/plain": [
       "     Unnamed: 0 Sample_ID    350    351    352    353    354    355    356  \\\n",
       "250         250  BNL12751  24.63  24.46  24.25  23.94  23.56  23.15  22.62   \n",
       "318         318  BNL12780  27.07  26.89  26.64  26.24  25.69  25.18  24.59   \n",
       "171         171  BNL12602  34.86  34.59  34.01  33.30  32.56  31.68  30.69   \n",
       "93           93  BNL12708  24.48  24.68  24.94  24.94  24.62  24.22  23.65   \n",
       "32           32  BNL12840  23.87  23.72  23.43  22.99  22.41  21.78  21.11   \n",
       "\n",
       "       357  ...  2492  2493  2494  2495  2496  2497  2498  2499  2500   Carea  \n",
       "250  21.89  ...  4.28  4.23  4.10  3.96  3.91  3.82  3.72  3.77  3.70   45.35  \n",
       "318  23.84  ...  2.94  2.92  2.87  2.83  2.88  2.93  2.92  2.95  2.86   36.96  \n",
       "171  29.64  ...  2.85  2.83  2.79  2.73  2.76  2.76  2.72  2.74  2.68  136.07  \n",
       "93   22.86  ...  3.89  3.81  3.69  3.58  3.59  3.60  3.60  3.71  3.74   34.29  \n",
       "32   20.45  ...  5.81  5.75  5.68  5.63  5.73  5.76  5.72  5.80  5.71   39.26  \n",
       "\n",
       "[5 rows x 2154 columns]"
      ]
     },
     "execution_count": 14,
     "metadata": {},
     "output_type": "execute_result"
    }
   ],
   "source": [
    "# df.head()\n",
    "df.sample(5)"
   ]
  },
  {
   "cell_type": "markdown",
   "id": "6671e926-d3a2-45ef-9227-f104d38ae08c",
   "metadata": {},
   "source": [
    "## What is the data types of columns?"
   ]
  },
  {
   "cell_type": "code",
   "execution_count": 15,
   "id": "33910620-ad53-4ad6-a9ac-b2c3e32d48ed",
   "metadata": {},
   "outputs": [
    {
     "name": "stdout",
     "output_type": "stream",
     "text": [
      "<class 'pandas.core.frame.DataFrame'>\n",
      "RangeIndex: 376 entries, 0 to 375\n",
      "Columns: 2154 entries, Unnamed: 0 to Carea\n",
      "dtypes: float64(2152), int64(1), object(1)\n",
      "memory usage: 6.2+ MB\n"
     ]
    }
   ],
   "source": [
    "df.info()"
   ]
  },
  {
   "cell_type": "markdown",
   "id": "3f6b3304-c462-4dcb-996f-65c0b297e67e",
   "metadata": {},
   "source": [
    "This indicates that wavelenth from 350 to 2500 have float type and unnamed column is int type and Carea is of object(string type)"
   ]
  },
  {
   "cell_type": "markdown",
   "id": "273ba65f-0ea1-433c-aea3-82cb5b097eb2",
   "metadata": {},
   "source": [
    "## Are there any missing values?"
   ]
  },
  {
   "cell_type": "code",
   "execution_count": 16,
   "id": "bf75391a-f740-41bc-b2e0-6fbfae52e57a",
   "metadata": {},
   "outputs": [
    {
     "data": {
      "text/plain": [
       "Unnamed: 0     0\n",
       "Sample_ID     19\n",
       "350           19\n",
       "351           19\n",
       "352           19\n",
       "              ..\n",
       "2497          19\n",
       "2498          19\n",
       "2499          19\n",
       "2500          19\n",
       "Carea          0\n",
       "Length: 2154, dtype: int64"
      ]
     },
     "execution_count": 16,
     "metadata": {},
     "output_type": "execute_result"
    }
   ],
   "source": [
    "df.isnull().sum()"
   ]
  },
  {
   "cell_type": "markdown",
   "id": "c21a2e43-85e3-4c64-846d-4fe69e1e5510",
   "metadata": {},
   "source": [
    "this indicate that column from 350 to 25000 have 19 missing value"
   ]
  },
  {
   "cell_type": "markdown",
   "id": "f2b6f0df-da97-4a78-86f9-9aebf43617fc",
   "metadata": {},
   "source": [
    "## How does the data look mathematically?"
   ]
  },
  {
   "cell_type": "code",
   "execution_count": 17,
   "id": "a2cd02a2-f234-4b9e-8bb3-dab65a7dfe99",
   "metadata": {},
   "outputs": [
    {
     "data": {
      "text/html": [
       "<div>\n",
       "<style scoped>\n",
       "    .dataframe tbody tr th:only-of-type {\n",
       "        vertical-align: middle;\n",
       "    }\n",
       "\n",
       "    .dataframe tbody tr th {\n",
       "        vertical-align: top;\n",
       "    }\n",
       "\n",
       "    .dataframe thead th {\n",
       "        text-align: right;\n",
       "    }\n",
       "</style>\n",
       "<table border=\"1\" class=\"dataframe\">\n",
       "  <thead>\n",
       "    <tr style=\"text-align: right;\">\n",
       "      <th></th>\n",
       "      <th>Unnamed: 0</th>\n",
       "      <th>350</th>\n",
       "      <th>351</th>\n",
       "      <th>352</th>\n",
       "      <th>353</th>\n",
       "      <th>354</th>\n",
       "      <th>355</th>\n",
       "      <th>356</th>\n",
       "      <th>357</th>\n",
       "      <th>358</th>\n",
       "      <th>...</th>\n",
       "      <th>2492</th>\n",
       "      <th>2493</th>\n",
       "      <th>2494</th>\n",
       "      <th>2495</th>\n",
       "      <th>2496</th>\n",
       "      <th>2497</th>\n",
       "      <th>2498</th>\n",
       "      <th>2499</th>\n",
       "      <th>2500</th>\n",
       "      <th>Carea</th>\n",
       "    </tr>\n",
       "  </thead>\n",
       "  <tbody>\n",
       "    <tr>\n",
       "      <th>count</th>\n",
       "      <td>376.000000</td>\n",
       "      <td>357.000000</td>\n",
       "      <td>357.000000</td>\n",
       "      <td>357.000000</td>\n",
       "      <td>357.000000</td>\n",
       "      <td>357.000000</td>\n",
       "      <td>357.000000</td>\n",
       "      <td>357.000000</td>\n",
       "      <td>357.000000</td>\n",
       "      <td>357.000000</td>\n",
       "      <td>...</td>\n",
       "      <td>357.000000</td>\n",
       "      <td>357.000000</td>\n",
       "      <td>357.000000</td>\n",
       "      <td>357.000000</td>\n",
       "      <td>357.000000</td>\n",
       "      <td>357.000000</td>\n",
       "      <td>357.000000</td>\n",
       "      <td>357.000000</td>\n",
       "      <td>357.000000</td>\n",
       "      <td>376.000000</td>\n",
       "    </tr>\n",
       "    <tr>\n",
       "      <th>mean</th>\n",
       "      <td>187.500000</td>\n",
       "      <td>19.682745</td>\n",
       "      <td>19.523697</td>\n",
       "      <td>19.310756</td>\n",
       "      <td>19.000420</td>\n",
       "      <td>18.600140</td>\n",
       "      <td>18.174762</td>\n",
       "      <td>17.691653</td>\n",
       "      <td>17.160476</td>\n",
       "      <td>16.659104</td>\n",
       "      <td>...</td>\n",
       "      <td>4.182773</td>\n",
       "      <td>4.159076</td>\n",
       "      <td>4.110812</td>\n",
       "      <td>4.066246</td>\n",
       "      <td>4.105210</td>\n",
       "      <td>4.117003</td>\n",
       "      <td>4.092213</td>\n",
       "      <td>4.127479</td>\n",
       "      <td>4.073557</td>\n",
       "      <td>-2.801755</td>\n",
       "    </tr>\n",
       "    <tr>\n",
       "      <th>std</th>\n",
       "      <td>108.686092</td>\n",
       "      <td>9.588935</td>\n",
       "      <td>9.619265</td>\n",
       "      <td>9.578082</td>\n",
       "      <td>9.477621</td>\n",
       "      <td>9.325134</td>\n",
       "      <td>9.086660</td>\n",
       "      <td>8.798792</td>\n",
       "      <td>8.478791</td>\n",
       "      <td>8.237506</td>\n",
       "      <td>...</td>\n",
       "      <td>1.781320</td>\n",
       "      <td>1.775177</td>\n",
       "      <td>1.756140</td>\n",
       "      <td>1.736231</td>\n",
       "      <td>1.754265</td>\n",
       "      <td>1.759188</td>\n",
       "      <td>1.748017</td>\n",
       "      <td>1.765730</td>\n",
       "      <td>1.742312</td>\n",
       "      <td>732.386058</td>\n",
       "    </tr>\n",
       "    <tr>\n",
       "      <th>min</th>\n",
       "      <td>0.000000</td>\n",
       "      <td>1.760000</td>\n",
       "      <td>1.350000</td>\n",
       "      <td>2.340000</td>\n",
       "      <td>2.260000</td>\n",
       "      <td>1.300000</td>\n",
       "      <td>1.460000</td>\n",
       "      <td>1.970000</td>\n",
       "      <td>1.570000</td>\n",
       "      <td>1.960000</td>\n",
       "      <td>...</td>\n",
       "      <td>0.600000</td>\n",
       "      <td>0.620000</td>\n",
       "      <td>0.600000</td>\n",
       "      <td>0.600000</td>\n",
       "      <td>0.620000</td>\n",
       "      <td>0.630000</td>\n",
       "      <td>0.650000</td>\n",
       "      <td>0.700000</td>\n",
       "      <td>0.710000</td>\n",
       "      <td>-9999.000000</td>\n",
       "    </tr>\n",
       "    <tr>\n",
       "      <th>25%</th>\n",
       "      <td>93.750000</td>\n",
       "      <td>7.080000</td>\n",
       "      <td>6.900000</td>\n",
       "      <td>6.550000</td>\n",
       "      <td>6.290000</td>\n",
       "      <td>6.270000</td>\n",
       "      <td>5.870000</td>\n",
       "      <td>5.820000</td>\n",
       "      <td>5.880000</td>\n",
       "      <td>5.550000</td>\n",
       "      <td>...</td>\n",
       "      <td>3.040000</td>\n",
       "      <td>3.020000</td>\n",
       "      <td>2.980000</td>\n",
       "      <td>2.930000</td>\n",
       "      <td>2.960000</td>\n",
       "      <td>2.990000</td>\n",
       "      <td>2.960000</td>\n",
       "      <td>2.980000</td>\n",
       "      <td>2.940000</td>\n",
       "      <td>35.157500</td>\n",
       "    </tr>\n",
       "    <tr>\n",
       "      <th>50%</th>\n",
       "      <td>187.500000</td>\n",
       "      <td>23.460000</td>\n",
       "      <td>23.250000</td>\n",
       "      <td>23.110000</td>\n",
       "      <td>22.870000</td>\n",
       "      <td>22.410000</td>\n",
       "      <td>21.870000</td>\n",
       "      <td>21.310000</td>\n",
       "      <td>20.680000</td>\n",
       "      <td>20.160000</td>\n",
       "      <td>...</td>\n",
       "      <td>4.160000</td>\n",
       "      <td>4.090000</td>\n",
       "      <td>4.020000</td>\n",
       "      <td>3.960000</td>\n",
       "      <td>3.950000</td>\n",
       "      <td>3.980000</td>\n",
       "      <td>3.960000</td>\n",
       "      <td>3.980000</td>\n",
       "      <td>3.950000</td>\n",
       "      <td>44.480000</td>\n",
       "    </tr>\n",
       "    <tr>\n",
       "      <th>75%</th>\n",
       "      <td>281.250000</td>\n",
       "      <td>26.620000</td>\n",
       "      <td>26.480000</td>\n",
       "      <td>26.220000</td>\n",
       "      <td>25.880000</td>\n",
       "      <td>25.340000</td>\n",
       "      <td>24.850000</td>\n",
       "      <td>24.200000</td>\n",
       "      <td>23.470000</td>\n",
       "      <td>22.830000</td>\n",
       "      <td>...</td>\n",
       "      <td>4.940000</td>\n",
       "      <td>4.920000</td>\n",
       "      <td>4.870000</td>\n",
       "      <td>4.800000</td>\n",
       "      <td>4.860000</td>\n",
       "      <td>4.870000</td>\n",
       "      <td>4.860000</td>\n",
       "      <td>4.850000</td>\n",
       "      <td>4.820000</td>\n",
       "      <td>58.250000</td>\n",
       "    </tr>\n",
       "    <tr>\n",
       "      <th>max</th>\n",
       "      <td>375.000000</td>\n",
       "      <td>37.020000</td>\n",
       "      <td>37.230000</td>\n",
       "      <td>37.110000</td>\n",
       "      <td>36.670000</td>\n",
       "      <td>35.980000</td>\n",
       "      <td>35.110000</td>\n",
       "      <td>34.050000</td>\n",
       "      <td>32.840000</td>\n",
       "      <td>31.740000</td>\n",
       "      <td>...</td>\n",
       "      <td>10.970000</td>\n",
       "      <td>10.910000</td>\n",
       "      <td>10.780000</td>\n",
       "      <td>10.670000</td>\n",
       "      <td>10.840000</td>\n",
       "      <td>10.900000</td>\n",
       "      <td>10.830000</td>\n",
       "      <td>11.010000</td>\n",
       "      <td>10.890000</td>\n",
       "      <td>168.900000</td>\n",
       "    </tr>\n",
       "  </tbody>\n",
       "</table>\n",
       "<p>8 rows × 2153 columns</p>\n",
       "</div>"
      ],
      "text/plain": [
       "       Unnamed: 0         350         351         352         353         354  \\\n",
       "count  376.000000  357.000000  357.000000  357.000000  357.000000  357.000000   \n",
       "mean   187.500000   19.682745   19.523697   19.310756   19.000420   18.600140   \n",
       "std    108.686092    9.588935    9.619265    9.578082    9.477621    9.325134   \n",
       "min      0.000000    1.760000    1.350000    2.340000    2.260000    1.300000   \n",
       "25%     93.750000    7.080000    6.900000    6.550000    6.290000    6.270000   \n",
       "50%    187.500000   23.460000   23.250000   23.110000   22.870000   22.410000   \n",
       "75%    281.250000   26.620000   26.480000   26.220000   25.880000   25.340000   \n",
       "max    375.000000   37.020000   37.230000   37.110000   36.670000   35.980000   \n",
       "\n",
       "              355         356         357         358  ...        2492  \\\n",
       "count  357.000000  357.000000  357.000000  357.000000  ...  357.000000   \n",
       "mean    18.174762   17.691653   17.160476   16.659104  ...    4.182773   \n",
       "std      9.086660    8.798792    8.478791    8.237506  ...    1.781320   \n",
       "min      1.460000    1.970000    1.570000    1.960000  ...    0.600000   \n",
       "25%      5.870000    5.820000    5.880000    5.550000  ...    3.040000   \n",
       "50%     21.870000   21.310000   20.680000   20.160000  ...    4.160000   \n",
       "75%     24.850000   24.200000   23.470000   22.830000  ...    4.940000   \n",
       "max     35.110000   34.050000   32.840000   31.740000  ...   10.970000   \n",
       "\n",
       "             2493        2494        2495        2496        2497        2498  \\\n",
       "count  357.000000  357.000000  357.000000  357.000000  357.000000  357.000000   \n",
       "mean     4.159076    4.110812    4.066246    4.105210    4.117003    4.092213   \n",
       "std      1.775177    1.756140    1.736231    1.754265    1.759188    1.748017   \n",
       "min      0.620000    0.600000    0.600000    0.620000    0.630000    0.650000   \n",
       "25%      3.020000    2.980000    2.930000    2.960000    2.990000    2.960000   \n",
       "50%      4.090000    4.020000    3.960000    3.950000    3.980000    3.960000   \n",
       "75%      4.920000    4.870000    4.800000    4.860000    4.870000    4.860000   \n",
       "max     10.910000   10.780000   10.670000   10.840000   10.900000   10.830000   \n",
       "\n",
       "             2499        2500        Carea  \n",
       "count  357.000000  357.000000   376.000000  \n",
       "mean     4.127479    4.073557    -2.801755  \n",
       "std      1.765730    1.742312   732.386058  \n",
       "min      0.700000    0.710000 -9999.000000  \n",
       "25%      2.980000    2.940000    35.157500  \n",
       "50%      3.980000    3.950000    44.480000  \n",
       "75%      4.850000    4.820000    58.250000  \n",
       "max     11.010000   10.890000   168.900000  \n",
       "\n",
       "[8 rows x 2153 columns]"
      ]
     },
     "execution_count": 17,
     "metadata": {},
     "output_type": "execute_result"
    }
   ],
   "source": [
    "df.describe()"
   ]
  },
  {
   "cell_type": "markdown",
   "id": "d31a8886-ab29-4134-a819-eedb33f36dec",
   "metadata": {},
   "source": [
    "## Are there duplicate values?"
   ]
  },
  {
   "cell_type": "code",
   "execution_count": 18,
   "id": "4537dd3f-f236-40a8-8628-c5e7b6ea973f",
   "metadata": {},
   "outputs": [
    {
     "data": {
      "text/plain": [
       "0"
      ]
     },
     "execution_count": 18,
     "metadata": {},
     "output_type": "execute_result"
    }
   ],
   "source": [
    "df.duplicated().sum()"
   ]
  },
  {
   "cell_type": "markdown",
   "id": "2c0fed2b-61f6-4eaa-b9c2-81500874239f",
   "metadata": {},
   "source": [
    "## How is the correlation between column?"
   ]
  },
  {
   "cell_type": "code",
   "execution_count": 19,
   "id": "cdb9c27e-bc1b-42ff-97aa-18660a339017",
   "metadata": {},
   "outputs": [],
   "source": [
    "ddf = df.drop(['Sample_ID'],axis=1)"
   ]
  },
  {
   "cell_type": "code",
   "execution_count": 20,
   "id": "de84d57a-c12b-4134-9703-2b0addd484ad",
   "metadata": {},
   "outputs": [
    {
     "data": {
      "text/plain": [
       "Unnamed: 0   -0.003750\n",
       "350          -0.039579\n",
       "351          -0.039132\n",
       "352          -0.039120\n",
       "353          -0.039041\n",
       "                ...   \n",
       "2497          0.061075\n",
       "2498          0.062765\n",
       "2499          0.062779\n",
       "2500          0.063909\n",
       "Carea         1.000000\n",
       "Name: Carea, Length: 2153, dtype: float64"
      ]
     },
     "execution_count": 20,
     "metadata": {},
     "output_type": "execute_result"
    }
   ],
   "source": [
    "ddf.corr()['Carea']"
   ]
  },
  {
   "cell_type": "markdown",
   "id": "7b374a5e-0192-435f-b456-6c716073779e",
   "metadata": {},
   "source": [
    "# EDA"
   ]
  },
  {
   "cell_type": "markdown",
   "id": "43240091-998b-4e5b-adae-8ef6e06e1818",
   "metadata": {},
   "source": [
    "## Univariate EDA"
   ]
  },
  {
   "cell_type": "code",
   "execution_count": 21,
   "id": "92a02423-d189-4a95-afa2-c18644c899d3",
   "metadata": {},
   "outputs": [],
   "source": [
    "import matplotlib.pyplot as plt\n"
   ]
  },
  {
   "cell_type": "code",
   "execution_count": 22,
   "id": "59655339-136c-498e-a814-b8d3c60a2f62",
   "metadata": {},
   "outputs": [
    {
     "data": {
      "text/plain": [
       "-9999.0"
      ]
     },
     "execution_count": 22,
     "metadata": {},
     "output_type": "execute_result"
    }
   ],
   "source": [
    "df['Carea'].min()"
   ]
  },
  {
   "cell_type": "code",
   "execution_count": 23,
   "id": "a7f67cc3-2c4f-4704-b3ab-6d9dda4f843d",
   "metadata": {},
   "outputs": [
    {
     "name": "stdout",
     "output_type": "stream",
     "text": [
      "     Unnamed: 0 Sample_ID    350    351    352    353    354    355    356  \\\n",
      "190         190  BNL12621  24.67  24.41  24.07  23.61  23.05  22.43  21.80   \n",
      "191         191  BNL12622  25.60  25.47  25.34  25.05  24.56  24.03  23.42   \n",
      "\n",
      "       357  ...  2492  2493  2494  2495  2496  2497  2498  2499  2500   Carea  \n",
      "190  21.28  ...  2.52  2.53  2.50  2.44  2.46  2.47  2.44  2.45  2.37 -9999.0  \n",
      "191  22.77  ...  2.81  2.86  2.82  2.74  2.72  2.63  2.55  2.58  2.54 -9999.0  \n",
      "\n",
      "[2 rows x 2154 columns]\n"
     ]
    }
   ],
   "source": [
    "# conditionally delete rows where age is greater than 30\n",
    "df_new = df[df['Carea'] < 0]\n",
    "print(df_new)"
   ]
  },
  {
   "cell_type": "code",
   "execution_count": 45,
   "id": "1c6d4909-4569-4f48-94a3-e650b844580e",
   "metadata": {},
   "outputs": [],
   "source": [
    "dff = df.drop(df[df['Carea'] < 0].index)"
   ]
  },
  {
   "cell_type": "markdown",
   "id": "d1617726-6e1f-4318-ade1-fbd18b97e79d",
   "metadata": {},
   "source": [
    "## Histogram\n"
   ]
  },
  {
   "cell_type": "code",
   "execution_count": 25,
   "id": "169a6095-9a92-4704-a508-4de1ae57c674",
   "metadata": {},
   "outputs": [
    {
     "data": {
      "text/plain": [
       "(array([ 67., 134.,  83.,  45.,  26.,   5.,   2.,   4.,   6.,   2.]),\n",
       " array([ 15.46 ,  30.804,  46.148,  61.492,  76.836,  92.18 , 107.524,\n",
       "        122.868, 138.212, 153.556, 168.9  ]),\n",
       " <BarContainer object of 10 artists>)"
      ]
     },
     "execution_count": 25,
     "metadata": {},
     "output_type": "execute_result"
    },
    {
     "data": {
      "image/png": "[encoded data removed]",
      "text/plain": [
       "<Figure size 640x480 with 1 Axes>"
      ]
     },
     "metadata": {},
     "output_type": "display_data"
    }
   ],
   "source": [
    "plt.hist(dff['Carea'])"
   ]
  },
  {
   "cell_type": "markdown",
   "id": "50622359-e1d5-4f75-af2a-3ac6bdb12467",
   "metadata": {},
   "source": [
    "It tells that how many number of wavelength having range of C Area . eg. from 40 unit to 50 unit C area it have 130 wavelengths"
   ]
  },
  {
   "cell_type": "markdown",
   "id": "5464793a-aac1-43a8-8562-84323a316b49",
   "metadata": {},
   "source": [
    "## Distplot"
   ]
  },
  {
   "cell_type": "code",
   "execution_count": 26,
   "id": "2041d83b-29b6-4de3-98b6-33d2eba86d5b",
   "metadata": {},
   "outputs": [
    {
     "name": "stderr",
     "output_type": "stream",
     "text": [
      "C:\\Users\\Pratyush\\AppData\\Local\\Temp\\ipykernel_8052\\3847990762.py:1: UserWarning: \n",
      "\n",
      "`distplot` is a deprecated function and will be removed in seaborn v0.14.0.\n",
      "\n",
      "Please adapt your code to use either `displot` (a figure-level function with\n",
      "similar flexibility) or `histplot` (an axes-level function for histograms).\n",
      "\n",
      "For a guide to updating your code to use the new functions, please see\n",
      "https://gist.github.com/mwaskom/de44147ed2974457ad6372750bbe5751\n",
      "\n",
      "  sns.distplot(dff['Carea'])\n"
     ]
    },
    {
     "data": {
      "text/plain": [
       "<Axes: xlabel='Carea', ylabel='Density'>"
      ]
     },
     "execution_count": 26,
     "metadata": {},
     "output_type": "execute_result"
    },
    {
     "data": {
      "image/png": "[encoded data removed]",
      "text/plain": [
       "<Figure size 640x480 with 1 Axes>"
      ]
     },
     "metadata": {},
     "output_type": "display_data"
    }
   ],
   "source": [
    "sns.distplot(dff['Carea'])"
   ]
  },
  {
   "cell_type": "markdown",
   "id": "6639fe9b-2a17-4071-8b1a-12544dea8dfd",
   "metadata": {},
   "source": [
    "It tell the probability . The curve that is shown is probability distribution curve. Lets take I want to known if we take random wavelength that whaty it probability to have 40unitis 25%."
   ]
  },
  {
   "cell_type": "markdown",
   "id": "ad903321-1cb0-4eab-a872-c92e71128396",
   "metadata": {},
   "source": [
    "## Boxplot"
   ]
  },
  {
   "cell_type": "code",
   "execution_count": 27,
   "id": "606b80b2-e1a9-4d3c-98ea-573753239003",
   "metadata": {},
   "outputs": [
    {
     "data": {
      "text/plain": [
       "<Axes: ylabel='Carea'>"
      ]
     },
     "execution_count": 27,
     "metadata": {},
     "output_type": "execute_result"
    },
    {
     "data": {
      "image/png": "[encoded data removed]",
      "text/plain": [
       "<Figure size 640x480 with 1 Axes>"
      ]
     },
     "metadata": {},
     "output_type": "display_data"
    }
   ],
   "source": [
    "sns.boxplot(dff['Carea'])"
   ]
  },
  {
   "cell_type": "markdown",
   "id": "264cf3f2-0605-4715-a625-c6b4c0c6adb4",
   "metadata": {},
   "source": [
    "It conveys that C Area have mean and medium is between 40 to 60 and it have some potential outliers in the data that we can removed."
   ]
  },
  {
   "cell_type": "markdown",
   "id": "f1dbd315-b546-4025-a36d-ea5081aad31d",
   "metadata": {},
   "source": [
    "# EDA Bivariate Analysis"
   ]
  },
  {
   "cell_type": "code",
   "execution_count": 31,
   "id": "ff75caf4-84a9-40c5-a90d-8e8105418c92",
   "metadata": {},
   "outputs": [],
   "source": [
    "mdf = pd.read_csv('puertorico2017_cn_metadata.csv')"
   ]
  },
  {
   "cell_type": "code",
   "execution_count": 32,
   "id": "9df82034-ec4e-401a-998d-79c4d7d70f11",
   "metadata": {},
   "outputs": [
    {
     "data": {
      "text/html": [
       "<div>\n",
       "<style scoped>\n",
       "    .dataframe tbody tr th:only-of-type {\n",
       "        vertical-align: middle;\n",
       "    }\n",
       "\n",
       "    .dataframe tbody tr th {\n",
       "        vertical-align: top;\n",
       "    }\n",
       "\n",
       "    .dataframe thead th {\n",
       "        text-align: right;\n",
       "    }\n",
       "</style>\n",
       "<table border=\"1\" class=\"dataframe\">\n",
       "  <thead>\n",
       "    <tr style=\"text-align: right;\">\n",
       "      <th></th>\n",
       "      <th>Sample_ID</th>\n",
       "      <th>Cmass</th>\n",
       "      <th>Nmass</th>\n",
       "      <th>CNratio</th>\n",
       "      <th>Carea</th>\n",
       "      <th>N</th>\n",
       "    </tr>\n",
       "  </thead>\n",
       "  <tbody>\n",
       "    <tr>\n",
       "      <th>0</th>\n",
       "      <td>BNL12602</td>\n",
       "      <td>464.7</td>\n",
       "      <td>19.5</td>\n",
       "      <td>23.83</td>\n",
       "      <td>80.90</td>\n",
       "      <td>3.39</td>\n",
       "    </tr>\n",
       "    <tr>\n",
       "      <th>1</th>\n",
       "      <td>BNL12603</td>\n",
       "      <td>494.0</td>\n",
       "      <td>15.6</td>\n",
       "      <td>31.67</td>\n",
       "      <td>88.73</td>\n",
       "      <td>2.80</td>\n",
       "    </tr>\n",
       "    <tr>\n",
       "      <th>2</th>\n",
       "      <td>BNL12603T</td>\n",
       "      <td>494.0</td>\n",
       "      <td>15.6</td>\n",
       "      <td>31.67</td>\n",
       "      <td>88.73</td>\n",
       "      <td>2.80</td>\n",
       "    </tr>\n",
       "    <tr>\n",
       "      <th>3</th>\n",
       "      <td>BNL12605</td>\n",
       "      <td>483.8</td>\n",
       "      <td>21.0</td>\n",
       "      <td>23.04</td>\n",
       "      <td>65.94</td>\n",
       "      <td>2.86</td>\n",
       "    </tr>\n",
       "    <tr>\n",
       "      <th>4</th>\n",
       "      <td>BNL12605T</td>\n",
       "      <td>483.8</td>\n",
       "      <td>21.0</td>\n",
       "      <td>23.04</td>\n",
       "      <td>65.94</td>\n",
       "      <td>2.86</td>\n",
       "    </tr>\n",
       "    <tr>\n",
       "      <th>...</th>\n",
       "      <td>...</td>\n",
       "      <td>...</td>\n",
       "      <td>...</td>\n",
       "      <td>...</td>\n",
       "      <td>...</td>\n",
       "      <td>...</td>\n",
       "    </tr>\n",
       "    <tr>\n",
       "      <th>371</th>\n",
       "      <td>BNL12916T</td>\n",
       "      <td>483.2</td>\n",
       "      <td>26.3</td>\n",
       "      <td>18.37</td>\n",
       "      <td>26.99</td>\n",
       "      <td>1.47</td>\n",
       "    </tr>\n",
       "    <tr>\n",
       "      <th>372</th>\n",
       "      <td>BNL12919</td>\n",
       "      <td>506.9</td>\n",
       "      <td>14.8</td>\n",
       "      <td>34.25</td>\n",
       "      <td>55.87</td>\n",
       "      <td>1.63</td>\n",
       "    </tr>\n",
       "    <tr>\n",
       "      <th>373</th>\n",
       "      <td>BNL12919T</td>\n",
       "      <td>506.9</td>\n",
       "      <td>14.8</td>\n",
       "      <td>34.25</td>\n",
       "      <td>55.87</td>\n",
       "      <td>1.63</td>\n",
       "    </tr>\n",
       "    <tr>\n",
       "      <th>374</th>\n",
       "      <td>BNL12926</td>\n",
       "      <td>483.9</td>\n",
       "      <td>19.5</td>\n",
       "      <td>24.82</td>\n",
       "      <td>24.70</td>\n",
       "      <td>1.00</td>\n",
       "    </tr>\n",
       "    <tr>\n",
       "      <th>375</th>\n",
       "      <td>BNL12926T</td>\n",
       "      <td>483.9</td>\n",
       "      <td>19.5</td>\n",
       "      <td>24.82</td>\n",
       "      <td>24.70</td>\n",
       "      <td>1.00</td>\n",
       "    </tr>\n",
       "  </tbody>\n",
       "</table>\n",
       "<p>376 rows × 6 columns</p>\n",
       "</div>"
      ],
      "text/plain": [
       "     Sample_ID  Cmass  Nmass  CNratio  Carea     N\n",
       "0     BNL12602  464.7   19.5    23.83  80.90  3.39\n",
       "1     BNL12603  494.0   15.6    31.67  88.73  2.80\n",
       "2    BNL12603T  494.0   15.6    31.67  88.73  2.80\n",
       "3     BNL12605  483.8   21.0    23.04  65.94  2.86\n",
       "4    BNL12605T  483.8   21.0    23.04  65.94  2.86\n",
       "..         ...    ...    ...      ...    ...   ...\n",
       "371  BNL12916T  483.2   26.3    18.37  26.99  1.47\n",
       "372   BNL12919  506.9   14.8    34.25  55.87  1.63\n",
       "373  BNL12919T  506.9   14.8    34.25  55.87  1.63\n",
       "374   BNL12926  483.9   19.5    24.82  24.70  1.00\n",
       "375  BNL12926T  483.9   19.5    24.82  24.70  1.00\n",
       "\n",
       "[376 rows x 6 columns]"
      ]
     },
     "execution_count": 32,
     "metadata": {},
     "output_type": "execute_result"
    }
   ],
   "source": [
    "df"
   ]
  },
  {
   "cell_type": "code",
   "execution_count": 33,
   "id": "1bd293e8-1d6e-44a7-a4ff-0775d7c8eaf0",
   "metadata": {},
   "outputs": [
    {
     "name": "stdout",
     "output_type": "stream",
     "text": [
      "<class 'pandas.core.frame.DataFrame'>\n",
      "RangeIndex: 376 entries, 0 to 375\n",
      "Data columns (total 6 columns):\n",
      " #   Column     Non-Null Count  Dtype  \n",
      "---  ------     --------------  -----  \n",
      " 0   Sample_ID  376 non-null    object \n",
      " 1   Cmass      376 non-null    float64\n",
      " 2   Nmass      376 non-null    float64\n",
      " 3   CNratio    376 non-null    float64\n",
      " 4   Carea      376 non-null    float64\n",
      " 5   N          376 non-null    float64\n",
      "dtypes: float64(5), object(1)\n",
      "memory usage: 17.8+ KB\n"
     ]
    }
   ],
   "source": [
    "df.info()"
   ]
  },
  {
   "cell_type": "markdown",
   "id": "8e34f481-89e3-4d02-86f1-3b361fa8de97",
   "metadata": {},
   "source": [
    "## Scatterplot (Numerical - Numerical)"
   ]
  },
  {
   "cell_type": "code",
   "execution_count": 48,
   "id": "88cd6a7c-b2f6-4398-921e-0703ccfbc59a",
   "metadata": {},
   "outputs": [
    {
     "data": {
      "text/html": [
       "<div>\n",
       "<style scoped>\n",
       "    .dataframe tbody tr th:only-of-type {\n",
       "        vertical-align: middle;\n",
       "    }\n",
       "\n",
       "    .dataframe tbody tr th {\n",
       "        vertical-align: top;\n",
       "    }\n",
       "\n",
       "    .dataframe thead th {\n",
       "        text-align: right;\n",
       "    }\n",
       "</style>\n",
       "<table border=\"1\" class=\"dataframe\">\n",
       "  <thead>\n",
       "    <tr style=\"text-align: right;\">\n",
       "      <th></th>\n",
       "      <th>Sample_ID</th>\n",
       "      <th>Cmass</th>\n",
       "      <th>Nmass</th>\n",
       "      <th>CNratio</th>\n",
       "      <th>Carea</th>\n",
       "      <th>N</th>\n",
       "    </tr>\n",
       "  </thead>\n",
       "  <tbody>\n",
       "    <tr>\n",
       "      <th>0</th>\n",
       "      <td>BNL12602</td>\n",
       "      <td>464.7</td>\n",
       "      <td>19.5</td>\n",
       "      <td>23.83</td>\n",
       "      <td>80.90</td>\n",
       "      <td>3.39</td>\n",
       "    </tr>\n",
       "    <tr>\n",
       "      <th>1</th>\n",
       "      <td>BNL12603</td>\n",
       "      <td>494.0</td>\n",
       "      <td>15.6</td>\n",
       "      <td>31.67</td>\n",
       "      <td>88.73</td>\n",
       "      <td>2.80</td>\n",
       "    </tr>\n",
       "    <tr>\n",
       "      <th>2</th>\n",
       "      <td>BNL12603T</td>\n",
       "      <td>494.0</td>\n",
       "      <td>15.6</td>\n",
       "      <td>31.67</td>\n",
       "      <td>88.73</td>\n",
       "      <td>2.80</td>\n",
       "    </tr>\n",
       "    <tr>\n",
       "      <th>3</th>\n",
       "      <td>BNL12605</td>\n",
       "      <td>483.8</td>\n",
       "      <td>21.0</td>\n",
       "      <td>23.04</td>\n",
       "      <td>65.94</td>\n",
       "      <td>2.86</td>\n",
       "    </tr>\n",
       "    <tr>\n",
       "      <th>4</th>\n",
       "      <td>BNL12605T</td>\n",
       "      <td>483.8</td>\n",
       "      <td>21.0</td>\n",
       "      <td>23.04</td>\n",
       "      <td>65.94</td>\n",
       "      <td>2.86</td>\n",
       "    </tr>\n",
       "    <tr>\n",
       "      <th>...</th>\n",
       "      <td>...</td>\n",
       "      <td>...</td>\n",
       "      <td>...</td>\n",
       "      <td>...</td>\n",
       "      <td>...</td>\n",
       "      <td>...</td>\n",
       "    </tr>\n",
       "    <tr>\n",
       "      <th>371</th>\n",
       "      <td>BNL12916T</td>\n",
       "      <td>483.2</td>\n",
       "      <td>26.3</td>\n",
       "      <td>18.37</td>\n",
       "      <td>26.99</td>\n",
       "      <td>1.47</td>\n",
       "    </tr>\n",
       "    <tr>\n",
       "      <th>372</th>\n",
       "      <td>BNL12919</td>\n",
       "      <td>506.9</td>\n",
       "      <td>14.8</td>\n",
       "      <td>34.25</td>\n",
       "      <td>55.87</td>\n",
       "      <td>1.63</td>\n",
       "    </tr>\n",
       "    <tr>\n",
       "      <th>373</th>\n",
       "      <td>BNL12919T</td>\n",
       "      <td>506.9</td>\n",
       "      <td>14.8</td>\n",
       "      <td>34.25</td>\n",
       "      <td>55.87</td>\n",
       "      <td>1.63</td>\n",
       "    </tr>\n",
       "    <tr>\n",
       "      <th>374</th>\n",
       "      <td>BNL12926</td>\n",
       "      <td>483.9</td>\n",
       "      <td>19.5</td>\n",
       "      <td>24.82</td>\n",
       "      <td>24.70</td>\n",
       "      <td>1.00</td>\n",
       "    </tr>\n",
       "    <tr>\n",
       "      <th>375</th>\n",
       "      <td>BNL12926T</td>\n",
       "      <td>483.9</td>\n",
       "      <td>19.5</td>\n",
       "      <td>24.82</td>\n",
       "      <td>24.70</td>\n",
       "      <td>1.00</td>\n",
       "    </tr>\n",
       "  </tbody>\n",
       "</table>\n",
       "<p>374 rows × 6 columns</p>\n",
       "</div>"
      ],
      "text/plain": [
       "     Sample_ID  Cmass  Nmass  CNratio  Carea     N\n",
       "0     BNL12602  464.7   19.5    23.83  80.90  3.39\n",
       "1     BNL12603  494.0   15.6    31.67  88.73  2.80\n",
       "2    BNL12603T  494.0   15.6    31.67  88.73  2.80\n",
       "3     BNL12605  483.8   21.0    23.04  65.94  2.86\n",
       "4    BNL12605T  483.8   21.0    23.04  65.94  2.86\n",
       "..         ...    ...    ...      ...    ...   ...\n",
       "371  BNL12916T  483.2   26.3    18.37  26.99  1.47\n",
       "372   BNL12919  506.9   14.8    34.25  55.87  1.63\n",
       "373  BNL12919T  506.9   14.8    34.25  55.87  1.63\n",
       "374   BNL12926  483.9   19.5    24.82  24.70  1.00\n",
       "375  BNL12926T  483.9   19.5    24.82  24.70  1.00\n",
       "\n",
       "[374 rows x 6 columns]"
      ]
     },
     "execution_count": 48,
     "metadata": {},
     "output_type": "execute_result"
    }
   ],
   "source": [
    "mdf = mdf.drop(mdf[mdf['Carea'] < 0].index)\n",
    "mdf"
   ]
  },
  {
   "cell_type": "code",
   "execution_count": 53,
   "id": "593a0a65-6412-423e-b99b-188f13f955d2",
   "metadata": {},
   "outputs": [
    {
     "data": {
      "text/plain": [
       "<Axes: ylabel='Carea'>"
      ]
     },
     "execution_count": 53,
     "metadata": {},
     "output_type": "execute_result"
    },
    {
     "data": {
      "image/png": "[encoded data removed]",
      "text/plain": [
       "<Figure size 640x480 with 1 Axes>"
      ]
     },
     "metadata": {},
     "output_type": "display_data"
    }
   ],
   "source": [
    "sns.scatterplot(mdf['Carea'] )"
   ]
  },
  {
   "cell_type": "markdown",
   "id": "15d1eb62-18f1-439f-90e4-5c5f68a7a1ef",
   "metadata": {},
   "source": [
    "# Day 22 Pandas Profiling"
   ]
  },
  {
   "cell_type": "code",
   "execution_count": 62,
   "id": "7650c694-1d4a-478e-baee-0d7445192a74",
   "metadata": {},
   "outputs": [
    {
     "name": "stdout",
     "output_type": "stream",
     "text": [
      "Requirement already satisfied: ydata_profiling in c:\\users\\pratyush\\anaconda3\\lib\\site-packages (4.16.1)\n",
      "Requirement already satisfied: scipy<1.16,>=1.4.1 in c:\\users\\pratyush\\anaconda3\\lib\\site-packages (from ydata_profiling) (1.13.1)\n",
      "Requirement already satisfied: pandas!=1.4.0,<3.0,>1.1 in c:\\users\\pratyush\\anaconda3\\lib\\site-packages (from ydata_profiling) (2.2.2)\n",
      "Requirement already satisfied: matplotlib<=3.10,>=3.5 in c:\\users\\pratyush\\anaconda3\\lib\\site-packages (from ydata_profiling) (3.9.2)\n",
      "Requirement already satisfied: pydantic>=2 in c:\\users\\pratyush\\anaconda3\\lib\\site-packages (from ydata_profiling) (2.8.2)\n",
      "Requirement already satisfied: PyYAML<6.1,>=5.0.0 in c:\\users\\pratyush\\anaconda3\\lib\\site-packages (from ydata_profiling) (6.0.1)\n",
      "Requirement already satisfied: jinja2<3.2,>=2.11.1 in c:\\users\\pratyush\\anaconda3\\lib\\site-packages (from ydata_profiling) (3.1.4)\n",
      "Requirement already satisfied: visions<0.8.2,>=0.7.5 in c:\\users\\pratyush\\anaconda3\\lib\\site-packages (from visions[type_image_path]<0.8.2,>=0.7.5->ydata_profiling) (0.8.1)\n",
      "Requirement already satisfied: numpy<2.2,>=1.16.0 in c:\\users\\pratyush\\anaconda3\\lib\\site-packages (from ydata_profiling) (1.26.4)\n",
      "Requirement already satisfied: htmlmin==0.1.12 in c:\\users\\pratyush\\anaconda3\\lib\\site-packages (from ydata_profiling) (0.1.12)\n",
      "Requirement already satisfied: phik<0.13,>=0.11.1 in c:\\users\\pratyush\\anaconda3\\lib\\site-packages (from ydata_profiling) (0.12.4)\n",
      "Requirement already satisfied: requests<3,>=2.24.0 in c:\\users\\pratyush\\anaconda3\\lib\\site-packages (from ydata_profiling) (2.32.3)\n",
      "Requirement already satisfied: tqdm<5,>=4.48.2 in c:\\users\\pratyush\\anaconda3\\lib\\site-packages (from ydata_profiling) (4.66.5)\n",
      "Requirement already satisfied: seaborn<0.14,>=0.10.1 in c:\\users\\pratyush\\anaconda3\\lib\\site-packages (from ydata_profiling) (0.13.2)\n",
      "Requirement already satisfied: multimethod<2,>=1.4 in c:\\users\\pratyush\\anaconda3\\lib\\site-packages (from ydata_profiling) (1.12)\n",
      "Requirement already satisfied: statsmodels<1,>=0.13.2 in c:\\users\\pratyush\\anaconda3\\lib\\site-packages (from ydata_profiling) (0.14.2)\n",
      "Requirement already satisfied: typeguard<5,>=3 in c:\\users\\pratyush\\anaconda3\\lib\\site-packages (from ydata_profiling) (4.4.2)\n",
      "Requirement already satisfied: imagehash==4.3.1 in c:\\users\\pratyush\\anaconda3\\lib\\site-packages (from ydata_profiling) (4.3.1)\n",
      "Requirement already satisfied: wordcloud>=1.9.3 in c:\\users\\pratyush\\anaconda3\\lib\\site-packages (from ydata_profiling) (1.9.4)\n",
      "Requirement already satisfied: dacite>=1.8 in c:\\users\\pratyush\\anaconda3\\lib\\site-packages (from ydata_profiling) (1.9.2)\n",
      "Requirement already satisfied: numba<=0.61,>=0.56.0 in c:\\users\\pratyush\\anaconda3\\lib\\site-packages (from ydata_profiling) (0.60.0)\n",
      "Requirement already satisfied: PyWavelets in c:\\users\\pratyush\\anaconda3\\lib\\site-packages (from imagehash==4.3.1->ydata_profiling) (1.7.0)\n",
      "Requirement already satisfied: pillow in c:\\users\\pratyush\\anaconda3\\lib\\site-packages (from imagehash==4.3.1->ydata_profiling) (10.4.0)\n",
      "Requirement already satisfied: MarkupSafe>=2.0 in c:\\users\\pratyush\\anaconda3\\lib\\site-packages (from jinja2<3.2,>=2.11.1->ydata_profiling) (2.1.3)\n",
      "Requirement already satisfied: contourpy>=1.0.1 in c:\\users\\pratyush\\anaconda3\\lib\\site-packages (from matplotlib<=3.10,>=3.5->ydata_profiling) (1.2.0)\n",
      "Requirement already satisfied: cycler>=0.10 in c:\\users\\pratyush\\anaconda3\\lib\\site-packages (from matplotlib<=3.10,>=3.5->ydata_profiling) (0.11.0)\n",
      "Requirement already satisfied: fonttools>=4.22.0 in c:\\users\\pratyush\\anaconda3\\lib\\site-packages (from matplotlib<=3.10,>=3.5->ydata_profiling) (4.51.0)\n",
      "Requirement already satisfied: kiwisolver>=1.3.1 in c:\\users\\pratyush\\anaconda3\\lib\\site-packages (from matplotlib<=3.10,>=3.5->ydata_profiling) (1.4.4)\n",
      "Requirement already satisfied: packaging>=20.0 in c:\\users\\pratyush\\anaconda3\\lib\\site-packages (from matplotlib<=3.10,>=3.5->ydata_profiling) (24.1)\n",
      "Requirement already satisfied: pyparsing>=2.3.1 in c:\\users\\pratyush\\anaconda3\\lib\\site-packages (from matplotlib<=3.10,>=3.5->ydata_profiling) (3.1.2)\n",
      "Requirement already satisfied: python-dateutil>=2.7 in c:\\users\\pratyush\\anaconda3\\lib\\site-packages (from matplotlib<=3.10,>=3.5->ydata_profiling) (2.9.0.post0)\n",
      "Requirement already satisfied: llvmlite<0.44,>=0.43.0dev0 in c:\\users\\pratyush\\anaconda3\\lib\\site-packages (from numba<=0.61,>=0.56.0->ydata_profiling) (0.43.0)\n",
      "Requirement already satisfied: pytz>=2020.1 in c:\\users\\pratyush\\anaconda3\\lib\\site-packages (from pandas!=1.4.0,<3.0,>1.1->ydata_profiling) (2024.1)\n",
      "Requirement already satisfied: tzdata>=2022.7 in c:\\users\\pratyush\\anaconda3\\lib\\site-packages (from pandas!=1.4.0,<3.0,>1.1->ydata_profiling) (2023.3)\n",
      "Requirement already satisfied: joblib>=0.14.1 in c:\\users\\pratyush\\anaconda3\\lib\\site-packages (from phik<0.13,>=0.11.1->ydata_profiling) (1.1.1)\n",
      "Requirement already satisfied: annotated-types>=0.4.0 in c:\\users\\pratyush\\anaconda3\\lib\\site-packages (from pydantic>=2->ydata_profiling) (0.6.0)\n",
      "Requirement already satisfied: pydantic-core==2.20.1 in c:\\users\\pratyush\\anaconda3\\lib\\site-packages (from pydantic>=2->ydata_profiling) (2.20.1)\n",
      "Requirement already satisfied: typing-extensions>=4.6.1 in c:\\users\\pratyush\\anaconda3\\lib\\site-packages (from pydantic>=2->ydata_profiling) (4.11.0)\n",
      "Requirement already satisfied: charset-normalizer<4,>=2 in c:\\users\\pratyush\\anaconda3\\lib\\site-packages (from requests<3,>=2.24.0->ydata_profiling) (3.3.2)\n",
      "Requirement already satisfied: idna<4,>=2.5 in c:\\users\\pratyush\\anaconda3\\lib\\site-packages (from requests<3,>=2.24.0->ydata_profiling) (3.7)\n",
      "Requirement already satisfied: urllib3<3,>=1.21.1 in c:\\users\\pratyush\\anaconda3\\lib\\site-packages (from requests<3,>=2.24.0->ydata_profiling) (2.2.3)\n",
      "Requirement already satisfied: certifi>=2017.4.17 in c:\\users\\pratyush\\anaconda3\\lib\\site-packages (from requests<3,>=2.24.0->ydata_profiling) (2024.8.30)\n",
      "Requirement already satisfied: patsy>=0.5.6 in c:\\users\\pratyush\\anaconda3\\lib\\site-packages (from statsmodels<1,>=0.13.2->ydata_profiling) (0.5.6)\n",
      "Requirement already satisfied: colorama in c:\\users\\pratyush\\anaconda3\\lib\\site-packages (from tqdm<5,>=4.48.2->ydata_profiling) (0.4.6)\n",
      "Requirement already satisfied: attrs>=19.3.0 in c:\\users\\pratyush\\anaconda3\\lib\\site-packages (from visions<0.8.2,>=0.7.5->visions[type_image_path]<0.8.2,>=0.7.5->ydata_profiling) (23.1.0)\n",
      "Requirement already satisfied: networkx>=2.4 in c:\\users\\pratyush\\anaconda3\\lib\\site-packages (from visions<0.8.2,>=0.7.5->visions[type_image_path]<0.8.2,>=0.7.5->ydata_profiling) (3.3)\n",
      "Requirement already satisfied: puremagic in c:\\users\\pratyush\\anaconda3\\lib\\site-packages (from visions<0.8.2,>=0.7.5->visions[type_image_path]<0.8.2,>=0.7.5->ydata_profiling) (1.28)\n",
      "Requirement already satisfied: six in c:\\users\\pratyush\\anaconda3\\lib\\site-packages (from patsy>=0.5.6->statsmodels<1,>=0.13.2->ydata_profiling) (1.16.0)\n"
     ]
    }
   ],
   "source": [
    "!pip install ydata_profiling "
   ]
  },
  {
   "cell_type": "code",
   "execution_count": 61,
   "id": "4635aca5-9579-4a3b-a943-00089a7af8aa",
   "metadata": {},
   "outputs": [
    {
     "data": {
      "application/vnd.jupyter.widget-view+json": {
       "model_id": "18f52abcaf444520ac009bbbc6dacb4d",
       "version_major": 2,
       "version_minor": 0
      },
      "text/plain": [
       "Summarize dataset:   0%|          | 0/5 [00:00<?, ?it/s]"
      ]
     },
     "metadata": {},
     "output_type": "display_data"
    },
    {
     "name": "stderr",
     "output_type": "stream",
     "text": [
      "\n",
      "100%|███████████████████████████████████████████████████████████████████████████████████| 6/6 [00:00<00:00, 678.49it/s]\u001b[A\n"
     ]
    },
    {
     "data": {
      "application/vnd.jupyter.widget-view+json": {
       "model_id": "02fac53ea11c4e22a48fe85e28772ea8",
       "version_major": 2,
       "version_minor": 0
      },
      "text/plain": [
       "Generate report structure:   0%|          | 0/1 [00:00<?, ?it/s]"
      ]
     },
     "metadata": {},
     "output_type": "display_data"
    },
    {
     "data": {
      "application/vnd.jupyter.widget-view+json": {
       "model_id": "b346f12b139947b299cf995f2df8c620",
       "version_major": 2,
       "version_minor": 0
      },
      "text/plain": [
       "Render HTML:   0%|          | 0/1 [00:00<?, ?it/s]"
      ]
     },
     "metadata": {},
     "output_type": "display_data"
    },
    {
     "data": {
      "application/vnd.jupyter.widget-view+json": {
       "model_id": "683fe2cd1c034445bdc597ff77925c84",
       "version_major": 2,
       "version_minor": 0
      },
      "text/plain": [
       "Export report to file:   0%|          | 0/1 [00:00<?, ?it/s]"
      ]
     },
     "metadata": {},
     "output_type": "display_data"
    }
   ],
   "source": [
    "from ydata_profiling import ProfileReport\n",
    "prof = ProfileReport(mdf)\n",
    "prof.to_file(output_file='output.html')"
   ]
  },
  {
   "cell_type": "code",
   "execution_count": null,
   "id": "96161faa-a1fe-43c0-9e29-096c86f272a0",
   "metadata": {},
   "outputs": [],
   "source": []
  }
 ],
 "metadata": {
  "kernelspec": {
   "display_name": "Python 3 (ipykernel)",
   "language": "python",
   "name": "python3"
  },
  "language_info": {
   "codemirror_mode": {
    "name": "ipython",
    "version": 3
   },
   "file_extension": ".py",
   "mimetype": "text/x-python",
   "name": "python",
   "nbconvert_exporter": "python",
   "pygments_lexer": "ipython3",
   "version": "3.12.7"
  }
 },
 "nbformat": 4,
 "nbformat_minor": 5
}
