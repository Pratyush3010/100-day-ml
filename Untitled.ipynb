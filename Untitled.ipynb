{
 "cells": [
  {
   "cell_type": "code",
   "execution_count": 2,
   "id": "073dcf5f-f1ba-4541-9a12-28ea39e64cfe",
   "metadata": {},
   "outputs": [
    {
     "name": "stdout",
     "output_type": "stream",
     "text": [
      "hello\n"
     ]
    }
   ],
   "source": [
    "print(\"hello\")"
   ]
  },
  {
   "cell_type": "markdown",
   "id": "93d9ecad-10b2-499d-beb2-3907e4613e1d",
   "metadata": {},
   "source": [
    "### Hello This is test code\n"
   ]
  },
  {
   "cell_type": "markdown",
   "id": "47225a69-6a04-43bc-bc88-e8cd2ff210e3",
   "metadata": {},
   "source": [
    "# Import the Dataset\n"
   ]
  },
  {
   "cell_type": "code",
   "execution_count": 3,
   "id": "ef7edb70-2d10-4723-b322-33f342af52bd",
   "metadata": {},
   "outputs": [],
   "source": [
    "import pandas as pd"
   ]
  },
  {
   "cell_type": "code",
   "execution_count": 5,
   "id": "ecd730c2-aef4-4a22-81c8-f97b31f95bdc",
   "metadata": {},
   "outputs": [],
   "source": [
    "df = pd.read_csv(\"precios_gasolineras.csv\")"
   ]
  },
  {
   "cell_type": "code",
   "execution_count": 6,
   "id": "b7d56bbe-968d-4a08-a44e-bdf043e4e7fc",
   "metadata": {},
   "outputs": [
    {
     "data": {
      "text/html": [
       "<div>\n",
       "<style scoped>\n",
       "    .dataframe tbody tr th:only-of-type {\n",
       "        vertical-align: middle;\n",
       "    }\n",
       "\n",
       "    .dataframe tbody tr th {\n",
       "        vertical-align: top;\n",
       "    }\n",
       "\n",
       "    .dataframe thead th {\n",
       "        text-align: right;\n",
       "    }\n",
       "</style>\n",
       "<table border=\"1\" class=\"dataframe\">\n",
       "  <thead>\n",
       "    <tr style=\"text-align: right;\">\n",
       "      <th></th>\n",
       "      <th>id_estacion</th>\n",
       "      <th>fecha</th>\n",
       "      <th>precio_gasoleo_a</th>\n",
       "      <th>precio_gasoleo_premium</th>\n",
       "      <th>precio_gasolina_95</th>\n",
       "      <th>precio_gasolina_98</th>\n",
       "    </tr>\n",
       "  </thead>\n",
       "  <tbody>\n",
       "    <tr>\n",
       "      <th>0</th>\n",
       "      <td>10765</td>\n",
       "      <td>01/01/2022</td>\n",
       "      <td>1.399</td>\n",
       "      <td>1.399</td>\n",
       "      <td>1.519</td>\n",
       "      <td>1.639</td>\n",
       "    </tr>\n",
       "    <tr>\n",
       "      <th>1</th>\n",
       "      <td>12054</td>\n",
       "      <td>01/01/2022</td>\n",
       "      <td>1.389</td>\n",
       "      <td>1.389</td>\n",
       "      <td>1.479</td>\n",
       "      <td>1.621</td>\n",
       "    </tr>\n",
       "    <tr>\n",
       "      <th>2</th>\n",
       "      <td>13933</td>\n",
       "      <td>01/01/2022</td>\n",
       "      <td>1.249</td>\n",
       "      <td>NaN</td>\n",
       "      <td>1.389</td>\n",
       "      <td>NaN</td>\n",
       "    </tr>\n",
       "    <tr>\n",
       "      <th>3</th>\n",
       "      <td>4369</td>\n",
       "      <td>01/01/2022</td>\n",
       "      <td>1.359</td>\n",
       "      <td>1.359</td>\n",
       "      <td>1.479</td>\n",
       "      <td>1.599</td>\n",
       "    </tr>\n",
       "    <tr>\n",
       "      <th>4</th>\n",
       "      <td>5195</td>\n",
       "      <td>01/01/2022</td>\n",
       "      <td>1.409</td>\n",
       "      <td>1.409</td>\n",
       "      <td>1.509</td>\n",
       "      <td>1.619</td>\n",
       "    </tr>\n",
       "    <tr>\n",
       "      <th>...</th>\n",
       "      <td>...</td>\n",
       "      <td>...</td>\n",
       "      <td>...</td>\n",
       "      <td>...</td>\n",
       "      <td>...</td>\n",
       "      <td>...</td>\n",
       "    </tr>\n",
       "    <tr>\n",
       "      <th>47084</th>\n",
       "      <td>13930</td>\n",
       "      <td>31/12/2024</td>\n",
       "      <td>1.429</td>\n",
       "      <td>NaN</td>\n",
       "      <td>1.489</td>\n",
       "      <td>NaN</td>\n",
       "    </tr>\n",
       "    <tr>\n",
       "      <th>47085</th>\n",
       "      <td>14287</td>\n",
       "      <td>31/12/2024</td>\n",
       "      <td>1.559</td>\n",
       "      <td>1.559</td>\n",
       "      <td>1.649</td>\n",
       "      <td>1.739</td>\n",
       "    </tr>\n",
       "    <tr>\n",
       "      <th>47086</th>\n",
       "      <td>14465</td>\n",
       "      <td>31/12/2024</td>\n",
       "      <td>1.417</td>\n",
       "      <td>NaN</td>\n",
       "      <td>1.489</td>\n",
       "      <td>NaN</td>\n",
       "    </tr>\n",
       "    <tr>\n",
       "      <th>47087</th>\n",
       "      <td>14612</td>\n",
       "      <td>31/12/2024</td>\n",
       "      <td>NaN</td>\n",
       "      <td>NaN</td>\n",
       "      <td>NaN</td>\n",
       "      <td>NaN</td>\n",
       "    </tr>\n",
       "    <tr>\n",
       "      <th>47088</th>\n",
       "      <td>15547</td>\n",
       "      <td>31/12/2024</td>\n",
       "      <td>1.419</td>\n",
       "      <td>NaN</td>\n",
       "      <td>1.489</td>\n",
       "      <td>NaN</td>\n",
       "    </tr>\n",
       "  </tbody>\n",
       "</table>\n",
       "<p>47089 rows × 6 columns</p>\n",
       "</div>"
      ],
      "text/plain": [
       "       id_estacion       fecha  precio_gasoleo_a  precio_gasoleo_premium  \\\n",
       "0            10765  01/01/2022             1.399                   1.399   \n",
       "1            12054  01/01/2022             1.389                   1.389   \n",
       "2            13933  01/01/2022             1.249                     NaN   \n",
       "3             4369  01/01/2022             1.359                   1.359   \n",
       "4             5195  01/01/2022             1.409                   1.409   \n",
       "...            ...         ...               ...                     ...   \n",
       "47084        13930  31/12/2024             1.429                     NaN   \n",
       "47085        14287  31/12/2024             1.559                   1.559   \n",
       "47086        14465  31/12/2024             1.417                     NaN   \n",
       "47087        14612  31/12/2024               NaN                     NaN   \n",
       "47088        15547  31/12/2024             1.419                     NaN   \n",
       "\n",
       "       precio_gasolina_95  precio_gasolina_98  \n",
       "0                   1.519               1.639  \n",
       "1                   1.479               1.621  \n",
       "2                   1.389                 NaN  \n",
       "3                   1.479               1.599  \n",
       "4                   1.509               1.619  \n",
       "...                   ...                 ...  \n",
       "47084               1.489                 NaN  \n",
       "47085               1.649               1.739  \n",
       "47086               1.489                 NaN  \n",
       "47087                 NaN                 NaN  \n",
       "47088               1.489                 NaN  \n",
       "\n",
       "[47089 rows x 6 columns]"
      ]
     },
     "execution_count": 6,
     "metadata": {},
     "output_type": "execute_result"
    }
   ],
   "source": [
    "df"
   ]
  },
  {
   "cell_type": "code",
   "execution_count": null,
   "id": "9d427b52-9524-46ff-aa7d-0acfb2ef4a7c",
   "metadata": {},
   "outputs": [],
   "source": []
  }
 ],
 "metadata": {
  "kernelspec": {
   "display_name": "Python 3 (ipykernel)",
   "language": "python",
   "name": "python3"
  },
  "language_info": {
   "codemirror_mode": {
    "name": "ipython",
    "version": 3
   },
   "file_extension": ".py",
   "mimetype": "text/x-python",
   "name": "python",
   "nbconvert_exporter": "python",
   "pygments_lexer": "ipython3",
   "version": "3.12.7"
  }
 },
 "nbformat": 4,
 "nbformat_minor": 5
}
