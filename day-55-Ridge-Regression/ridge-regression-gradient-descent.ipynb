{
 "cells": [
  {
   "cell_type": "code",
   "execution_count": 2,
   "id": "97e35b98-dccc-4b5d-8956-239af78ebb8e",
   "metadata": {},
   "outputs": [],
   "source": [
    "from sklearn.datasets import load_diabetes\n",
    "\n",
    "from sklearn.metrics import r2_score\n",
    "import numpy as np"
   ]
  },
  {
   "cell_type": "code",
   "execution_count": 3,
   "id": "e4b4193e-0cd8-4829-9413-c52971537c66",
   "metadata": {},
   "outputs": [],
   "source": [
    "X,y = load_diabetes(return_X_y = True)"
   ]
  },
  {
   "cell_type": "code",
   "execution_count": 4,
   "id": "46f7b911-e522-4684-83e7-1ac23acfce94",
   "metadata": {},
   "outputs": [],
   "source": [
    "from sklearn.model_selection import train_test_split"
   ]
  },
  {
   "cell_type": "code",
   "execution_count": 5,
   "id": "5d20c3b7-8bef-4cd0-8852-cdc2246b23ca",
   "metadata": {},
   "outputs": [],
   "source": [
    "X_train,X_test,y_train,y_test = train_test_split(X,y,test_size=0.2,random_state=4)"
   ]
  },
  {
   "cell_type": "code",
   "execution_count": 6,
   "id": "3dad6747-bbbc-4688-95dc-50ac4ac2f0b1",
   "metadata": {},
   "outputs": [],
   "source": [
    "from sklearn.linear_model import SGDRegressor "
   ]
  },
  {
   "cell_type": "code",
   "execution_count": 11,
   "id": "4f23c2d4-c7ce-4ff5-919c-5697c1a908e0",
   "metadata": {},
   "outputs": [],
   "source": [
    "reg = SGDRegressor(penalty='l2',max_iter=500,eta0=0.1,learning_rate='constant',alpha=0.001)"
   ]
  },
  {
   "cell_type": "code",
   "execution_count": 12,
   "id": "0e32e8c4-7e3d-4aef-a731-3e45feee5680",
   "metadata": {},
   "outputs": [
    {
     "name": "stdout",
     "output_type": "stream",
     "text": [
      "R2 score 0.46039465929662027\n",
      "[  47.49149747 -157.92984961  371.43627721  266.99252851   -7.03774258\n",
      "  -58.46966977 -167.38555497  134.41380333  326.84376977  100.17835807]\n",
      "[153.86087615]\n"
     ]
    }
   ],
   "source": [
    "reg.fit(X_train,y_train)\n",
    "\n",
    "y_pred  = reg.predict(X_test)\n",
    "print(\"R2 score\",r2_score(y_test,y_pred))\n",
    "print(reg.coef_)\n",
    "print(reg.intercept_)"
   ]
  },
  {
   "cell_type": "code",
   "execution_count": 13,
   "id": "c7e72b69-4075-4ef2-9820-e9e72cc6650d",
   "metadata": {},
   "outputs": [],
   "source": [
    "from sklearn.linear_model import Ridge"
   ]
  },
  {
   "cell_type": "code",
   "execution_count": 14,
   "id": "8536ed9e-0838-476e-84a6-60311cfd1d96",
   "metadata": {},
   "outputs": [],
   "source": [
    "reg = Ridge(alpha = 0.001, max_iter=500,solver='sparse_cg')"
   ]
  },
  {
   "cell_type": "code",
   "execution_count": 15,
   "id": "8b8f63e0-b9f4-44e7-b149-2418e8c46495",
   "metadata": {},
   "outputs": [
    {
     "name": "stdout",
     "output_type": "stream",
     "text": [
      "R2 score 0.46250101621236117\n",
      "[  34.52193418 -290.84083311  482.40182579  368.0678778  -852.44871836\n",
      "  501.59161672  180.11114618  270.76335711  759.73535975   37.49136714]\n",
      "151.1019852048177\n"
     ]
    }
   ],
   "source": [
    "reg.fit(X_train,y_train)\n",
    "\n",
    "y_pred = reg.predict(X_test)\n",
    "print(\"R2 score\",r2_score(y_test,y_pred))\n",
    "print(reg.coef_)\n",
    "print(reg.intercept_)"
   ]
  },
  {
   "cell_type": "markdown",
   "id": "ff6b4f02-8bcf-4dc9-9fec-a4bd08d14d83",
   "metadata": {},
   "source": [
    "## Custom Ridge regressor with gradient descent"
   ]
  },
  {
   "cell_type": "code",
   "execution_count": 30,
   "id": "97e8a21e-0ed7-4767-b516-f4d146fed04e",
   "metadata": {},
   "outputs": [],
   "source": [
    "class MeraRidgeGD :\n",
    "\n",
    "    def __init__(self,epochs,learning_rate,alpha):\n",
    "\n",
    "        self.learning_rate = learning_rate\n",
    "        self.epochs = epochs\n",
    "        self.alpha = alpha\n",
    "        self.coef_ = None\n",
    "        self.intercept_ = None\n",
    "\n",
    "    def fit(self,X_train,X_test):\n",
    "\n",
    "        self.coef_ = np.ones(X_train.shape[1])\n",
    "        self.intercept_ = 0\n",
    "        thetha = np.insert(self.coef_,0,self.intercept_)\n",
    "\n",
    "        X_train = np.insert(X_train,0,1,axis=1)\n",
    "\n",
    "        for i in range(self.epochs):\n",
    "            thetha_der = np.dot(X_train.T,X_train).dot(thetha) - np.dot(X_train.T,y_train)\n",
    "            thetha = thetha - self.learning_rate*thetha_der\n",
    "\n",
    "        self.coef_ = thetha[1:]\n",
    "        self.intercept_ = thetha[0]\n",
    "\n",
    "    def predict(self,X_test):\n",
    "\n",
    "        return np.dot(X_test,self.coef_) + self.intercept_\n",
    "            \n",
    "        "
   ]
  },
  {
   "cell_type": "code",
   "execution_count": 31,
   "id": "57a4f8b0-4bea-4941-aef5-e310988b7625",
   "metadata": {},
   "outputs": [],
   "source": [
    "reg = MeraRidgeGD(epochs = 500,alpha = 0.001,learning_rate=0.005)"
   ]
  },
  {
   "cell_type": "code",
   "execution_count": 32,
   "id": "8259f95a-a2cc-4b09-a628-3fbd67eea35d",
   "metadata": {},
   "outputs": [
    {
     "name": "stdout",
     "output_type": "stream",
     "text": [
      "R2 score 0.4738338221542213\n",
      "[  46.63598044 -221.63045025  452.42479851  325.74604988  -29.1899932\n",
      "  -96.62131465 -190.97696659  146.35288163  401.05916029   95.06145318]\n",
      "150.8694167974686\n"
     ]
    }
   ],
   "source": [
    "reg.fit(X_train,y_train)\n",
    "\n",
    "# y_pred = reg.predict(X_test)\n",
    "\n",
    "y_pred = reg.predict(X_test)\n",
    "print(\"R2 score\",r2_score(y_test,y_pred))\n",
    "print(reg.coef_)\n",
    "print(reg.intercept_)"
   ]
  },
  {
   "cell_type": "code",
   "execution_count": null,
   "id": "245b138a-1336-4207-aa57-5a77ad327e6f",
   "metadata": {},
   "outputs": [],
   "source": []
  }
 ],
 "metadata": {
  "kernelspec": {
   "display_name": "Python 3 (ipykernel)",
   "language": "python",
   "name": "python3"
  },
  "language_info": {
   "codemirror_mode": {
    "name": "ipython",
    "version": 3
   },
   "file_extension": ".py",
   "mimetype": "text/x-python",
   "name": "python",
   "nbconvert_exporter": "python",
   "pygments_lexer": "ipython3",
   "version": "3.12.7"
  }
 },
 "nbformat": 4,
 "nbformat_minor": 5
}
